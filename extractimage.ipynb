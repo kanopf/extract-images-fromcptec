{
  "nbformat": 4,
  "nbformat_minor": 0,
  "metadata": {
    "colab": {
      "name": "extractimage",
      "provenance": [],
      "collapsed_sections": [],
      "authorship_tag": "ABX9TyOmww4FXtqwF+AkW1WpT3ah",
      "include_colab_link": true
    },
    "kernelspec": {
      "name": "python3",
      "display_name": "Python 3"
    }
  },
  "cells": [
    {
      "cell_type": "markdown",
      "metadata": {
        "id": "view-in-github",
        "colab_type": "text"
      },
      "source": [
        "<a href=\"https://colab.research.google.com/github/kanopf/extract-images-fromcptec/blob/main/extractimage.ipynb\" target=\"_parent\"><img src=\"https://colab.research.google.com/assets/colab-badge.svg\" alt=\"Open In Colab\"/></a>"
      ]
    },
    {
      "cell_type": "code",
      "metadata": {
        "id": "Z5pHTHZMzgZC"
      },
      "source": [
        ""
      ],
      "execution_count": null,
      "outputs": []
    },
    {
      "cell_type": "markdown",
      "metadata": {
        "id": "ctSdvP7do9Qo"
      },
      "source": [
        "## **Funções**"
      ]
    },
    {
      "cell_type": "code",
      "metadata": {
        "id": "tu6JJEvTo7lg"
      },
      "source": [
        "\n",
        "\n",
        "\n",
        "\n",
        "\n",
        "\n",
        "\n",
        "\n",
        "import urllib.request\n",
        "\n",
        "def dl_jpg(url, file_path, file_name):\n",
        "    try:\n",
        "        full_path = file_path + file_name + '.jpg'\n",
        "        urllib.request.urlretrieve(url, full_path)\n",
        "        \n",
        "    except:\n",
        "        pass\n",
        "    \n",
        "banda = 'goes 16 3.90 micro'\n",
        "ano = 2019\n",
        "mes = 7\n",
        "diai= 1 #sempre um dia antes para bater com contador diai = diai+1\n",
        "diaf = 31\n",
        "hora = 0 #cuidado com este trexo devido a algumas bandas começarem em outros horarios, este caso funciona para hora <100\n",
        "\n",
        "for dia in range (diai, diaf+1,1):\n",
        "    for hora in range (hora, 2400, 10):\n",
        "        \n",
        "        if hora < 2300 :\n",
        "            U = (('{:04d}{:02d}{:02d}{:04d}').format(ano,mes,dia,hora))\n",
        "            url =\"http://satelite.cptec.inpe.br/repositoriogoes/goes16/goes16_web/ams_ret_ch07_baixa/2019/07/S11635376_{0}.jpg\".format(U)\n",
        "            file_name = (U)\n",
        "            dl_jpg(url, '/home/qiep/Área de Trabalho/kanopf/2019/imagens/IMAGENSGOES16 3.90 MICRO/{0}'.format(banda), file_name)\n",
        "        elif hora == 2300:\n",
        "            break\n",
        "    hora = 0\n",
        "\n"
      ],
      "execution_count": null,
      "outputs": []
    }
  ]
}